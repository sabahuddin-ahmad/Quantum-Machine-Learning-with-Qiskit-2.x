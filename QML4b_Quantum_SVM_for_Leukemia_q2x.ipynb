{
 "cells": [
  {
   "cell_type": "markdown",
   "id": "b752c366",
   "metadata": {},
   "source": [
    "# Quantum Machine Learning\n",
    "\n",
    "# 4b. QSVM for Leukemia Data\n",
    "Quantum vs Classical SVM for Leukemia data of 72 patients\n",
    "\n",
    "This dataset comes from the classic Golub et al. (1999) paper, where microarray gene expression data was used to distinguish Acute Myeloid Leukemia (AML) from Acute Lymphoblastic Leukemia (ALL).\n",
    "\n",
    "Samples (n ≈ 72): Each column corresponds to one patient’s leukemia sample. There are 47 ALL samples and 25 AML samples. Each row corresponds to a gene (a probe on the microarray). The cell values are gene expression levels (typically log-transformed intensities). The data set can be downloaded from [this link](http://hastie.su.domains/CASI_files/DATA/leukemia_small.csv)\n",
    "\n",
    "---\n"
   ]
  },
  {
   "cell_type": "markdown",
   "id": "48fd879f",
   "metadata": {},
   "source": [
    "#### Setting Up a Python Virtual Environment (.venv) for Jupyter in VS Code\n",
    "\n",
    "If you are running this notebook in VS code, your environment must have the following libraries installed. \n",
    "\n",
    "`qiskit, qiskit-aer, qiskit-ibm-runtime, matplotlib, pylatexenc, pandas, scikit-learn`\n",
    "\n",
    "##### 1️⃣ Create a Virtual Environment\n",
    "\n",
    "In your project root folder (same level as `.git`), run:\n",
    "\n",
    "```bash\n",
    "# Create a virtual environment named .venv\n",
    "python -m venv .venv\n",
    "```\n",
    "\n",
    "##### 2️⃣ Activate the Environment\n",
    "\n",
    "macOS / Linux:\n",
    "```bash\n",
    "source .venv/bin/activate\n",
    "```\n",
    "Windows (PowerShell or CMD):\n",
    "```bash\n",
    ".venv\\Scripts\\activate\n",
    "```\n",
    "\n",
    "You should see:\n",
    "```bash\n",
    "(.venv) yourname@computer:~/project$\n",
    "```\n",
    "\n",
    "\n",
    "#### 3️⃣ Install Jupyter and ipykernel\n",
    "```bash\n",
    "pip install --upgrade pip\n",
    "pip install jupyter ipykernel\n",
    "```\n",
    "\n",
    "Register this environment as a Jupyter kernel:\n",
    "```bash\n",
    "python -m ipykernel install --user --name=.venv --display-name \"Python (.venv)\"\n",
    "```\n",
    "\n",
    "\n",
    "#### 4️⃣ Select the Kernel in VS Code\n",
    "\n",
    "Open the `.ipynb` notebook. In the top-right corner of VS Code, click “Select Kernel”. Choose Python (.venv).\n",
    "\n",
    "\n",
    "#### 5️⃣ Install All Packages from `requirements.txt`\n",
    "```bash\n",
    "pip install -r requirements.txt\n",
    "```\n",
    "---"
   ]
  },
  {
   "cell_type": "markdown",
   "id": "46a5456d",
   "metadata": {},
   "source": [
    "### Step 1. Data import and preprocessing\n",
    "Import the data and read a desired number of features, instead of all the features."
   ]
  },
  {
   "cell_type": "code",
   "execution_count": 1,
   "id": "5102a429",
   "metadata": {},
   "outputs": [
    {
     "name": "stdout",
     "output_type": "stream",
     "text": [
      "X.shape =  (72, 10) , y.shape =  (72,)\n"
     ]
    }
   ],
   "source": [
    "import pandas as pd\n",
    "import numpy as np\n",
    "\n",
    "# Load the CSV file\n",
    "df_raw = pd.read_csv('leukemia_small.csv', header=None)\n",
    "\n",
    "# Extract labels from the first row\n",
    "labels = df_raw.iloc[0, :].values\n",
    "\n",
    "# Extract data from rows 2 to 21 (index 1 to 20)\n",
    "X = df_raw.iloc[1:11, :].astype(float).values\n",
    "X = X.T\n",
    "# Convert labels: ALL -> -1, AML -> 1\n",
    "y = np.where(labels == 'ALL', -1, 1)\n",
    "print('X.shape = ', X.shape, ', y.shape = ',y.shape)"
   ]
  },
  {
   "cell_type": "code",
   "execution_count": 2,
   "id": "57be98f8",
   "metadata": {},
   "outputs": [],
   "source": [
    "# Rescale X to be within -pi to pi\n",
    "X_min = np.min(X)\n",
    "X_max = np.max(X)\n",
    "X_rescaled = (X - X_min) / (X_max - X_min) * 2*(np.pi)\n",
    "X = X_rescaled"
   ]
  },
  {
   "cell_type": "markdown",
   "id": "85603ae9",
   "metadata": {},
   "source": [
    "### Step 2. Split data into test and training set"
   ]
  },
  {
   "cell_type": "code",
   "execution_count": 3,
   "id": "04f8c8ea",
   "metadata": {},
   "outputs": [
    {
     "name": "stdout",
     "output_type": "stream",
     "text": [
      "X_train.shape =  (57, 10) , X_test.shape =  (15, 10)\n"
     ]
    }
   ],
   "source": [
    "from sklearn.model_selection import train_test_split\n",
    "\n",
    "# Split into 80% train, 20% test\n",
    "X_train, X_test, train_labels, test_labels = train_test_split(\n",
    "    X, y, test_size=0.2, random_state=42\n",
    ")\n",
    "print('X_train.shape = ', X_train.shape, ', X_test.shape = ', X_test.shape)"
   ]
  },
  {
   "cell_type": "markdown",
   "id": "cc3e022d",
   "metadata": {},
   "source": [
    "### Step 3. Feature Map\n",
    "Design an appropriate kernel circuit containing two parts. One part has trainable weights and the other part has feature encoding. We will use a custom feature map."
   ]
  },
  {
   "cell_type": "code",
   "execution_count": 4,
   "id": "7e117714",
   "metadata": {},
   "outputs": [
    {
     "name": "stdout",
     "output_type": "stream",
     "text": [
      "circuit depth of one unitary in feature map=  8\n"
     ]
    },
    {
     "data": {
      "image/png": "[encoded data removed]",
      "text/plain": [
       "<Figure size 322.998x270.9 with 1 Axes>"
      ]
     },
     "execution_count": 4,
     "metadata": {},
     "output_type": "execute_result"
    }
   ],
   "source": [
    "from qiskit.circuit import Parameter, ParameterVector, QuantumCircuit\n",
    " \n",
    "# Prepare feature map for computing overlap\n",
    "num_features = np.shape(X_train)[1]\n",
    "num_qubits = int(num_features / 2)\n",
    "# To use a custom feature map use the lines below.\n",
    "entangler_map = [[0, 1], [1, 3],  [2, 4]]\n",
    " \n",
    "fm = QuantumCircuit(num_qubits)\n",
    "training_param = Parameter(\"θ\") # Trainable parameter\n",
    "feature_params = ParameterVector(\"x\", num_qubits * 2)\n",
    "fm.ry(training_param, fm.qubits)\n",
    "for cz in entangler_map:\n",
    "    fm.cz(cz[0], cz[1])\n",
    "for i in range(num_qubits):\n",
    "    fm.rz(-2 * feature_params[2 * i + 1], i)\n",
    "    fm.rx(-2 * feature_params[2 * i], i)\n",
    "print(\"circuit depth of one unitary in feature map= \", fm.decompose().depth())\n",
    "fm.draw(\"mpl\", scale=0.6)"
   ]
  },
  {
   "cell_type": "markdown",
   "id": "9cfc1790",
   "metadata": {},
   "source": [
    "### Step 4. Kernel and Test matrices\n",
    "We do not need to optimize for the simulator and we directly run the loop over the whole dataset to compute all kernel etnries 1. For training matrix, we compute inner product between each of the example with every other example, and just put 1 for the inner product with itself. 2. For test matrix, we compute the inner product of every example in the test set with every example in the training set."
   ]
  },
  {
   "cell_type": "code",
   "execution_count": 5,
   "id": "1e8953fa",
   "metadata": {},
   "outputs": [],
   "source": [
    "# Empty kernel matrix\n",
    "test_size = np.shape(X_test)[0]\n",
    "train_size = np.shape(X_train)[0]\n",
    "num_samples = np.shape(X_train)[0]\n",
    "kernel_matrix = np.full((num_samples, num_samples), np.nan)\n",
    "test_matrix = np.full((test_size, num_samples), np.nan)"
   ]
  },
  {
   "cell_type": "code",
   "execution_count": 6,
   "id": "9006e5a3",
   "metadata": {},
   "outputs": [
    {
     "name": "stdout",
     "output_type": "stream",
     "text": [
      "training done\n",
      "test matrix done\n"
     ]
    }
   ],
   "source": [
    "# To use a simulator\n",
    "from qiskit.primitives import StatevectorSampler\n",
    "from qiskit.circuit.library import unitary_overlap\n",
    " \n",
    "num_shots = 10000\n",
    "theta = 0*np.pi / 6  # This can be trained, but here we just set it to a fixed value.\n",
    "# Evaluate the problem using state vector-based primitives from Qiskit.\n",
    "sampler = StatevectorSampler()\n",
    " \n",
    "for x1 in range(0, train_size):\n",
    "    for x2 in range(x1 + 1, train_size):\n",
    "        unitary1 = fm.assign_parameters(list(X_train[x1]) + [theta])\n",
    "        unitary2 = fm.assign_parameters(list(X_train[x2]) + [theta])\n",
    " \n",
    "        # Create the overlap circuit\n",
    "        overlap_circ = unitary_overlap(unitary1, unitary2)\n",
    "        overlap_circ.measure_all()\n",
    " \n",
    "        # These lines run the qiskit sampler primitive.\n",
    "        counts = (\n",
    "            sampler.run([overlap_circ], shots=num_shots)\n",
    "            .result()[0]\n",
    "            .data.meas.get_int_counts()\n",
    "        )\n",
    " \n",
    "        # Assign the probability of the 0 state to the kernel matrix, and the transposed element (since this is an inner product)\n",
    "        kernel_matrix[x1, x2] = counts.get(0, 0.0) / num_shots\n",
    "        kernel_matrix[x2, x1] = counts.get(0, 0.0) / num_shots\n",
    "    # Fill in on-diagonal elements with 1, again, since this is an inner-product corresponding to probability (or alter the code to check these entries and verify they yield 1)\n",
    "    kernel_matrix[x1, x1] = 1\n",
    " \n",
    "print(\"training done\")\n",
    " \n",
    "# Similar process to above, but for testing data.\n",
    "for x1 in range(0, test_size):\n",
    "    for x2 in range(0, train_size):\n",
    "        unitary1 = fm.assign_parameters(list(X_test[x1]) + [theta])\n",
    "        unitary2 = fm.assign_parameters(list(X_train[x2]) + [theta])\n",
    " \n",
    "        # Create the overlap circuit\n",
    "        overlap_circ = unitary_overlap(unitary1, unitary2)\n",
    "        overlap_circ.measure_all()\n",
    " \n",
    "        counts = (\n",
    "            sampler.run([overlap_circ], shots=num_shots)\n",
    "            .result()[0]\n",
    "            .data.meas.get_int_counts()\n",
    "        )\n",
    " \n",
    "        test_matrix[x1, x2] = counts.get(0, 0.0) / num_shots\n",
    " \n",
    "print(\"test matrix done\")"
   ]
  },
  {
   "cell_type": "markdown",
   "id": "4b5c1aad",
   "metadata": {},
   "source": [
    "Let us just visualize the kernel and test matrices"
   ]
  },
  {
   "cell_type": "code",
   "execution_count": 7,
   "id": "1e79bfb2",
   "metadata": {},
   "outputs": [
    {
     "data": {
      "text/plain": [
       "Text(0.5, 1.0, 'test matrix')"
      ]
     },
     "execution_count": 7,
     "metadata": {},
     "output_type": "execute_result"
    },
    {
     "data": {
      "image/png": "[encoded data removed]",
      "text/plain": [
       "<Figure size 1000x500 with 2 Axes>"
      ]
     },
     "metadata": {},
     "output_type": "display_data"
    }
   ],
   "source": [
    "# Visualisation Imports\n",
    "import matplotlib.pyplot as plt\n",
    "fig, axs = plt.subplots(1, 2, figsize=(10, 5))\n",
    "\n",
    "axs[0].imshow(\n",
    "    np.asmatrix(kernel_matrix), interpolation=\"nearest\", origin=\"upper\", cmap=\"Blues\"\n",
    ")\n",
    "axs[0].set_title(\"kernel matrix\")\n",
    "\n",
    "axs[1].imshow(np.asmatrix(test_matrix), interpolation=\"nearest\", origin=\"upper\", cmap=\"Reds\")\n",
    "axs[1].set_title(\"test matrix\")"
   ]
  },
  {
   "cell_type": "markdown",
   "id": "ae3e785b",
   "metadata": {},
   "source": [
    "### Step 3. Quantum SVM\n",
    "We can now use the kernel matrix in the support vector machine class in sklearn and train it to build the statevector classifier SVC"
   ]
  },
  {
   "cell_type": "code",
   "execution_count": 8,
   "id": "6535163d",
   "metadata": {},
   "outputs": [
    {
     "name": "stdout",
     "output_type": "stream",
     "text": [
      "Quantum SVC classification training accuracy: 0.7017543859649122\n",
      "Quantum SVC classification test accuracy: 0.6\n"
     ]
    }
   ],
   "source": [
    "# import a support vector classifier from a classical ML package.\n",
    "from sklearn.svm import SVC\n",
    " \n",
    "# Specify that you want to use a pre-computed kernel matrix\n",
    "qml_svc = SVC(kernel=\"precomputed\")\n",
    "\n",
    "# Feed in the pre-computed matrix and the labels of the training data. The classical algorithm gives you a fit.\n",
    "qml_svc.fit(kernel_matrix, train_labels)\n",
    " \n",
    "# Now use the .score to test your data, using the matrix of test data, and test labels as your inputs.\n",
    "qml_score_train_kernel = qml_svc.score(kernel_matrix, train_labels)\n",
    "print(f\"Quantum SVC classification training accuracy: {qml_score_train_kernel}\")\n",
    "qml_score_test_kernel = qml_svc.score(test_matrix, test_labels)\n",
    "print(f\"Quantum SVC classification test accuracy: {qml_score_test_kernel}\")"
   ]
  },
  {
   "cell_type": "markdown",
   "id": "9853db48",
   "metadata": {},
   "source": [
    "### Step 6. Classical SVM for comparison\n",
    "To compare with classical SVM, let use the same dataset for a classical SVM."
   ]
  },
  {
   "cell_type": "code",
   "execution_count": 9,
   "id": "98686d57",
   "metadata": {},
   "outputs": [
    {
     "name": "stdout",
     "output_type": "stream",
     "text": [
      "Classical SVC training accuracy: 0.68\n",
      "Classical SVC test accuracy:     0.67\n"
     ]
    }
   ],
   "source": [
    "from sklearn.svm import SVC\n",
    "\n",
    "svc = SVC()\n",
    "_ = svc.fit(X_train, train_labels)  # suppress printing the return value\n",
    "train_score_c = svc.score(X_train, train_labels)\n",
    "test_score_c = svc.score(X_test, test_labels)\n",
    "\n",
    "\n",
    "print(f\"Classical SVC training accuracy: {train_score_c:.2f}\")\n",
    "print(f\"Classical SVC test accuracy:     {test_score_c:.2f}\")"
   ]
  },
  {
   "cell_type": "markdown",
   "id": "4709f7b6",
   "metadata": {},
   "source": [
    "The notebook is based on materials from various sources including  [IBM Quantum Learning](https://quantum.cloud.ibm.com/learning/en/courses/quantum-machine-learning). However, it has been significantly modified. The syntax is according to qiskit version 2.3.\n",
    "\n",
    "Reference: [github/muf18](github.com/muf148)"
   ]
  }
 ],
 "metadata": {
  "kernelspec": {
   "display_name": ".venv",
   "language": "python",
   "name": "python3"
  },
  "language_info": {
   "codemirror_mode": {
    "name": "ipython",
    "version": 3
   },
   "file_extension": ".py",
   "mimetype": "text/x-python",
   "name": "python",
   "nbconvert_exporter": "python",
   "pygments_lexer": "ipython3",
   "version": "3.13.0"
  }
 },
 "nbformat": 4,
 "nbformat_minor": 5
}
